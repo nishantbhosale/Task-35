{
 "cells": [
  {
   "cell_type": "code",
   "execution_count": 1,
   "metadata": {},
   "outputs": [],
   "source": [
    "import cv2\n",
    "import numpy as np"
   ]
  },
  {
   "cell_type": "code",
   "execution_count": 2,
   "metadata": {},
   "outputs": [],
   "source": [
    "frame = np.zeros([600,600,3], np.uint8)\n",
    "\n",
    "pt1 = (200,100)\n",
    "pt2 = (100,200)\n",
    "pt3 = (300,200)\n",
    "pt4 = (400,100)\n",
    "pt5 = (500,200)\n",
    "sq1 = (250,200)\n",
    "sq2 = (250,400)\n",
    "rec1 = (150,200)\n",
    "rec2 = (450,400)\n",
    "\n",
    "#COLOR \n",
    "clr = (155,0,200)\n",
    "\n",
    "\n",
    "#defined function\n",
    "def drawline(point1,point2):\n",
    "    return cv2.line(frame,point1,point2,clr,2)\n",
    "\n",
    "\n",
    "#make lines on img\n",
    "drawImg = drawline(pt1,pt2)\n",
    "drawImg = drawline(pt1,pt3)\n",
    "drawImg = drawline(pt2,pt3)\n",
    "drawImg = drawline(pt1,pt4)\n",
    "drawImg = drawline(pt3,pt5)\n",
    "drawImg = drawline(pt4,pt5)\n",
    "drawImg = drawline(pt3,pt5)\n",
    "drawImg = drawline(sq1,sq2)\n",
    "drawImg = cv2.rectangle(frame,rec1,rec2,clr,2)\n",
    "\n",
    "\n",
    "#show the image\n",
    "cv2.imshow('image', drawImg)\n",
    "cv2.waitKey()\n",
    "cv2.destroyAllWindows()"
   ]
  },
  {
   "cell_type": "code",
   "execution_count": null,
   "metadata": {},
   "outputs": [],
   "source": []
  },
  {
   "cell_type": "code",
   "execution_count": null,
   "metadata": {},
   "outputs": [],
   "source": []
  }
 ],
 "metadata": {
  "kernelspec": {
   "display_name": "Python 3",
   "language": "python",
   "name": "python3"
  },
  "language_info": {
   "codemirror_mode": {
    "name": "ipython",
    "version": 3
   },
   "file_extension": ".py",
   "mimetype": "text/x-python",
   "name": "python",
   "nbconvert_exporter": "python",
   "pygments_lexer": "ipython3",
   "version": "3.8.5"
  }
 },
 "nbformat": 4,
 "nbformat_minor": 4
}
